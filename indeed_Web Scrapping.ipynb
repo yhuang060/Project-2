{
 "cells": [
  {
   "cell_type": "code",
   "execution_count": 1,
   "metadata": {},
   "outputs": [],
   "source": [
    "from bs4 import BeautifulSoup\n",
    "import requests\n",
    "from IPython.core.display import display, HTML\n",
    "import pandas as pd\n",
    "import numpy as np\n",
    "import time, os\n",
    "from selenium import webdriver\n",
    "from selenium.webdriver.common.keys import Keys\n",
    "from fake_useragent import UserAgent\n",
    "from selenium.webdriver.chrome.options import Options\n",
    "import random"
   ]
  },
  {
   "cell_type": "markdown",
   "metadata": {},
   "source": [
    "# Web Scraping: Selenium"
   ]
  },
  {
   "cell_type": "code",
   "execution_count": 2,
   "metadata": {},
   "outputs": [
    {
     "name": "stdout",
     "output_type": "stream",
     "text": [
      "Mozilla/5.0 (Macintosh; Intel Mac OS X 10_9_0) AppleWebKit/537.36 (KHTML, like Gecko) Chrome/32.0.1664.3 Safari/537.36\n"
     ]
    }
   ],
   "source": [
    "options = Options()\n",
    "ua = UserAgent()\n",
    "user_agent = ua.random\n",
    "print(user_agent)\n",
    "options.add_argument(user_agent)\n",
    "chromedriver = \"/Applications/chromedriver\"\n",
    "os.environ[\"webdriver.chrome.driver\"] = chromedriver\n"
   ]
  },
  {
   "cell_type": "markdown",
   "metadata": {},
   "source": [
    "## Collect Company name- Method 1 from company review page"
   ]
  },
  {
   "cell_type": "code",
   "execution_count": 3,
   "metadata": {},
   "outputs": [
    {
     "data": {
      "text/plain": [
       "'https://www.indeed.com/companies/search?q=Data&l=&from=discovery-cmp-search'"
      ]
     },
     "execution_count": 3,
     "metadata": {},
     "output_type": "execute_result"
    }
   ],
   "source": [
    "query = \"Data\"\n",
    "indeed_search = \"https://www.indeed.com/companies/search?q=\"\n",
    "indeed_query = indeed_search + query + \"&l=&from=discovery-cmp-search\"\n",
    "indeed_query\n"
   ]
  },
  {
   "cell_type": "code",
   "execution_count": 4,
   "metadata": {},
   "outputs": [
    {
     "name": "stdout",
     "output_type": "stream",
     "text": [
      "Mozilla/5.0 (Macintosh; Intel Mac OS X 10_8_0) AppleWebKit/537.36 (KHTML, like Gecko) Chrome/32.0.1664.3 Safari/537.36\n"
     ]
    }
   ],
   "source": [
    "from fake_useragent import UserAgent\n",
    "from selenium.webdriver.chrome.options import Options\n",
    "options = Options()\n",
    "ua = UserAgent()\n",
    "user_agent = ua.random\n",
    "print(user_agent)\n",
    "options.add_argument(f'user-agent={user_agent}')"
   ]
  },
  {
   "cell_type": "code",
   "execution_count": 5,
   "metadata": {},
   "outputs": [
    {
     "name": "stderr",
     "output_type": "stream",
     "text": [
      "<ipython-input-5-58066457306e>:1: DeprecationWarning: use options instead of chrome_options\n",
      "  driver = webdriver.Chrome(chrome_options=options, executable_path=chromedriver)\n"
     ]
    }
   ],
   "source": [
    "driver = webdriver.Chrome(chrome_options=options, executable_path=chromedriver)\n",
    "driver.get(indeed_query)"
   ]
  },
  {
   "cell_type": "code",
   "execution_count": 6,
   "metadata": {},
   "outputs": [],
   "source": [
    "soup = BeautifulSoup(driver.page_source, 'html.parser')"
   ]
  },
  {
   "cell_type": "code",
   "execution_count": 7,
   "metadata": {},
   "outputs": [],
   "source": [
    "cmp_n=soup.find_all('a',{\"itemprop\":\"name\",\"class\":\"cmp-CompanyWidget-name\"})\n",
    "\n",
    "#for cmp in cmp_n[1:]:\n",
    "#    print(cmp.text)"
   ]
  },
  {
   "cell_type": "code",
   "execution_count": 8,
   "metadata": {},
   "outputs": [],
   "source": [
    "job_title=[\"Data+Analyst\",\"Data+Engineers\",\"Database+Administrator\",\n",
    "           \"Machine+Learning+Engineer\",\"Data+Scientist\",\"Data+Architect\",\n",
    "           \"Statistician\"\"Business+Analyst\",\"Data\",\"Analytics+Manager\",\n",
    "           \"Big+Data+Engineer\",\"Database+Developer\",\"Statistician\",\n",
    "           \"Big+Data+Software+Developer\",\"Business+Analyst\",\n",
    "           \"Business+Intelligence+Analyst\",\"Analyst\",\"Analysis\",\"Python\",\"SQL\",\n",
    "           \"BI+Specialist\",\"Analytics+Manager\",\"Machine+Learning+Scientist\",\"Big+Data\"]"
   ]
  },
  {
   "cell_type": "code",
   "execution_count": 9,
   "metadata": {},
   "outputs": [],
   "source": [
    "def web_scrapping_cmp(title):\n",
    "    \n",
    "    headers = ['company']\n",
    "    query = title\n",
    "    indeed_search = \"https://www.indeed.com/companies/search?q=\"\n",
    "    indeed_query = indeed_search + query + \"&l=&from=discovery-cmp-search\"\n",
    "\n",
    "    options = Options()\n",
    "    ua = UserAgent()\n",
    "    user_agent = ua.random\n",
    "    options.add_argument(f'user-agent={user_agent}')\n",
    "\n",
    "    driver = webdriver.Chrome(chrome_options=options, executable_path=chromedriver)\n",
    "    driver.get(indeed_query)\n",
    "    soup = BeautifulSoup(driver.page_source, 'html.parser')\n",
    "    \n",
    "    \n",
    "    cmp_n=soup.find_all('a',{\"itemprop\":\"name\",\"class\":\"cmp-CompanyWidget-name\"})\n",
    "    company_name=[]\n",
    "    for cmp in cmp_n[1:]:\n",
    "        company_name.append(cmp.text)\n",
    "    headers = ['company']*len(company_name)\n",
    "    driver.quit()\n",
    "    return dict(zip(headers, [company_name]))"
   ]
  },
  {
   "cell_type": "code",
   "execution_count": 10,
   "metadata": {},
   "outputs": [
    {
     "name": "stderr",
     "output_type": "stream",
     "text": [
      "<ipython-input-9-9f2bb662e799>:13: DeprecationWarning: use options instead of chrome_options\n",
      "  driver = webdriver.Chrome(chrome_options=options, executable_path=chromedriver)\n"
     ]
    },
    {
     "ename": "KeyboardInterrupt",
     "evalue": "",
     "output_type": "error",
     "traceback": [
      "\u001b[0;31m---------------------------------------------------------------------------\u001b[0m",
      "\u001b[0;31mKeyboardInterrupt\u001b[0m                         Traceback (most recent call last)",
      "\u001b[0;32m<ipython-input-10-04a4bfe60bcd>\u001b[0m in \u001b[0;36m<module>\u001b[0;34m\u001b[0m\n\u001b[1;32m      2\u001b[0m \u001b[0;34m\u001b[0m\u001b[0m\n\u001b[1;32m      3\u001b[0m \u001b[0;32mfor\u001b[0m \u001b[0mlink\u001b[0m \u001b[0;32min\u001b[0m \u001b[0mjob_title\u001b[0m\u001b[0;34m:\u001b[0m\u001b[0;34m\u001b[0m\u001b[0;34m\u001b[0m\u001b[0m\n\u001b[0;32m----> 4\u001b[0;31m     \u001b[0mcompany_list\u001b[0m\u001b[0;34m.\u001b[0m\u001b[0mappend\u001b[0m\u001b[0;34m(\u001b[0m\u001b[0mweb_scrapping_cmp\u001b[0m\u001b[0;34m(\u001b[0m\u001b[0mlink\u001b[0m\u001b[0;34m)\u001b[0m\u001b[0;34m)\u001b[0m\u001b[0;34m\u001b[0m\u001b[0;34m\u001b[0m\u001b[0m\n\u001b[0m",
      "\u001b[0;32m<ipython-input-9-9f2bb662e799>\u001b[0m in \u001b[0;36mweb_scrapping_cmp\u001b[0;34m(title)\u001b[0m\n\u001b[1;32m     11\u001b[0m     \u001b[0moptions\u001b[0m\u001b[0;34m.\u001b[0m\u001b[0madd_argument\u001b[0m\u001b[0;34m(\u001b[0m\u001b[0;34mf'user-agent={user_agent}'\u001b[0m\u001b[0;34m)\u001b[0m\u001b[0;34m\u001b[0m\u001b[0;34m\u001b[0m\u001b[0m\n\u001b[1;32m     12\u001b[0m \u001b[0;34m\u001b[0m\u001b[0m\n\u001b[0;32m---> 13\u001b[0;31m     \u001b[0mdriver\u001b[0m \u001b[0;34m=\u001b[0m \u001b[0mwebdriver\u001b[0m\u001b[0;34m.\u001b[0m\u001b[0mChrome\u001b[0m\u001b[0;34m(\u001b[0m\u001b[0mchrome_options\u001b[0m\u001b[0;34m=\u001b[0m\u001b[0moptions\u001b[0m\u001b[0;34m,\u001b[0m \u001b[0mexecutable_path\u001b[0m\u001b[0;34m=\u001b[0m\u001b[0mchromedriver\u001b[0m\u001b[0;34m)\u001b[0m\u001b[0;34m\u001b[0m\u001b[0;34m\u001b[0m\u001b[0m\n\u001b[0m\u001b[1;32m     14\u001b[0m     \u001b[0mdriver\u001b[0m\u001b[0;34m.\u001b[0m\u001b[0mget\u001b[0m\u001b[0;34m(\u001b[0m\u001b[0mindeed_query\u001b[0m\u001b[0;34m)\u001b[0m\u001b[0;34m\u001b[0m\u001b[0;34m\u001b[0m\u001b[0m\n\u001b[1;32m     15\u001b[0m     \u001b[0msoup\u001b[0m \u001b[0;34m=\u001b[0m \u001b[0mBeautifulSoup\u001b[0m\u001b[0;34m(\u001b[0m\u001b[0mdriver\u001b[0m\u001b[0;34m.\u001b[0m\u001b[0mpage_source\u001b[0m\u001b[0;34m,\u001b[0m \u001b[0;34m'html.parser'\u001b[0m\u001b[0;34m)\u001b[0m\u001b[0;34m\u001b[0m\u001b[0;34m\u001b[0m\u001b[0m\n",
      "\u001b[0;32m~/opt/anaconda3/lib/python3.8/site-packages/selenium/webdriver/chrome/webdriver.py\u001b[0m in \u001b[0;36m__init__\u001b[0;34m(self, executable_path, port, options, service_args, desired_capabilities, service_log_path, chrome_options, keep_alive)\u001b[0m\n\u001b[1;32m     71\u001b[0m             \u001b[0mservice_args\u001b[0m\u001b[0;34m=\u001b[0m\u001b[0mservice_args\u001b[0m\u001b[0;34m,\u001b[0m\u001b[0;34m\u001b[0m\u001b[0;34m\u001b[0m\u001b[0m\n\u001b[1;32m     72\u001b[0m             log_path=service_log_path)\n\u001b[0;32m---> 73\u001b[0;31m         \u001b[0mself\u001b[0m\u001b[0;34m.\u001b[0m\u001b[0mservice\u001b[0m\u001b[0;34m.\u001b[0m\u001b[0mstart\u001b[0m\u001b[0;34m(\u001b[0m\u001b[0;34m)\u001b[0m\u001b[0;34m\u001b[0m\u001b[0;34m\u001b[0m\u001b[0m\n\u001b[0m\u001b[1;32m     74\u001b[0m \u001b[0;34m\u001b[0m\u001b[0m\n\u001b[1;32m     75\u001b[0m         \u001b[0;32mtry\u001b[0m\u001b[0;34m:\u001b[0m\u001b[0;34m\u001b[0m\u001b[0;34m\u001b[0m\u001b[0m\n",
      "\u001b[0;32m~/opt/anaconda3/lib/python3.8/site-packages/selenium/webdriver/common/service.py\u001b[0m in \u001b[0;36mstart\u001b[0;34m(self)\u001b[0m\n\u001b[1;32m    100\u001b[0m                 \u001b[0;32mbreak\u001b[0m\u001b[0;34m\u001b[0m\u001b[0;34m\u001b[0m\u001b[0m\n\u001b[1;32m    101\u001b[0m             \u001b[0mcount\u001b[0m \u001b[0;34m+=\u001b[0m \u001b[0;36m1\u001b[0m\u001b[0;34m\u001b[0m\u001b[0;34m\u001b[0m\u001b[0m\n\u001b[0;32m--> 102\u001b[0;31m             \u001b[0mtime\u001b[0m\u001b[0;34m.\u001b[0m\u001b[0msleep\u001b[0m\u001b[0;34m(\u001b[0m\u001b[0;36m1\u001b[0m\u001b[0;34m)\u001b[0m\u001b[0;34m\u001b[0m\u001b[0;34m\u001b[0m\u001b[0m\n\u001b[0m\u001b[1;32m    103\u001b[0m             \u001b[0;32mif\u001b[0m \u001b[0mcount\u001b[0m \u001b[0;34m==\u001b[0m \u001b[0;36m30\u001b[0m\u001b[0;34m:\u001b[0m\u001b[0;34m\u001b[0m\u001b[0;34m\u001b[0m\u001b[0m\n\u001b[1;32m    104\u001b[0m                 \u001b[0;32mraise\u001b[0m \u001b[0mWebDriverException\u001b[0m\u001b[0;34m(\u001b[0m\u001b[0;34m\"Can not connect to the Service %s\"\u001b[0m \u001b[0;34m%\u001b[0m \u001b[0mself\u001b[0m\u001b[0;34m.\u001b[0m\u001b[0mpath\u001b[0m\u001b[0;34m)\u001b[0m\u001b[0;34m\u001b[0m\u001b[0;34m\u001b[0m\u001b[0m\n",
      "\u001b[0;31mKeyboardInterrupt\u001b[0m: "
     ]
    }
   ],
   "source": [
    "company_list = []\n",
    "\n",
    "for link in job_title:\n",
    "    company_list.append(web_scrapping_cmp(link))"
   ]
  },
  {
   "cell_type": "code",
   "execution_count": 11,
   "metadata": {},
   "outputs": [
    {
     "name": "stdout",
     "output_type": "stream",
     "text": [
      "4\n"
     ]
    }
   ],
   "source": [
    "print(len(company_list)) #23\n",
    "#company_list"
   ]
  },
  {
   "cell_type": "code",
   "execution_count": 12,
   "metadata": {},
   "outputs": [],
   "source": [
    "Indeed_Company=pd.DataFrame(company_list[0])\n",
    "for i in range(1,len(company_list)):\n",
    "    try:\n",
    "        Indeed_Company=pd.concat([Indeed_Company,pd.DataFrame(company_list[i])])\n",
    "    except Exception:\n",
    "        pass"
   ]
  },
  {
   "cell_type": "code",
   "execution_count": 13,
   "metadata": {},
   "outputs": [
    {
     "data": {
      "text/plain": [
       "0                                 Pearson\n",
       "1                                Deloitte\n",
       "2                                  PayPal\n",
       "3      Forfeiture Support Associates, LLC\n",
       "4                                 Centene\n",
       "                      ...                \n",
       "124                               Dascena\n",
       "125                              Battelle\n",
       "126                    Seagate Technology\n",
       "127                                Square\n",
       "128                      Johnson Controls\n",
       "Name: 0, Length: 129, dtype: object"
      ]
     },
     "execution_count": 13,
     "metadata": {},
     "output_type": "execute_result"
    }
   ],
   "source": [
    "#driver.quit()\n",
    "len(Indeed_Company.company.unique())\n",
    "cmps=pd.DataFrame(Indeed_Company.company.unique())\n",
    "cmps[0]"
   ]
  },
  {
   "cell_type": "markdown",
   "metadata": {},
   "source": [
    "## Collect Company name- Method 2 from job searching page"
   ]
  },
  {
   "cell_type": "code",
   "execution_count": 304,
   "metadata": {},
   "outputs": [
    {
     "data": {
      "text/plain": [
       "'https://www.indeed.com/q-data-scientist-jobs.html'"
      ]
     },
     "execution_count": 304,
     "metadata": {},
     "output_type": "execute_result"
    }
   ],
   "source": [
    "query_1 = \"data-scientist\"\n",
    "indeed_search = \"https://www.indeed.com/q-\"\n",
    "indeed_query_1 = indeed_search + query_1 + \"-jobs.html\"\n",
    "indeed_query_1\n"
   ]
  },
  {
   "cell_type": "code",
   "execution_count": 14,
   "metadata": {},
   "outputs": [
    {
     "name": "stderr",
     "output_type": "stream",
     "text": [
      "<ipython-input-14-44809da2cbbe>:1: DeprecationWarning: use options instead of chrome_options\n",
      "  driver = webdriver.Chrome(chrome_options=options, executable_path=chromedriver)\n"
     ]
    },
    {
     "ename": "NameError",
     "evalue": "name 'indeed_query_1' is not defined",
     "output_type": "error",
     "traceback": [
      "\u001b[0;31m---------------------------------------------------------------------------\u001b[0m",
      "\u001b[0;31mNameError\u001b[0m                                 Traceback (most recent call last)",
      "\u001b[0;32m<ipython-input-14-44809da2cbbe>\u001b[0m in \u001b[0;36m<module>\u001b[0;34m\u001b[0m\n\u001b[1;32m      1\u001b[0m \u001b[0mdriver\u001b[0m \u001b[0;34m=\u001b[0m \u001b[0mwebdriver\u001b[0m\u001b[0;34m.\u001b[0m\u001b[0mChrome\u001b[0m\u001b[0;34m(\u001b[0m\u001b[0mchrome_options\u001b[0m\u001b[0;34m=\u001b[0m\u001b[0moptions\u001b[0m\u001b[0;34m,\u001b[0m \u001b[0mexecutable_path\u001b[0m\u001b[0;34m=\u001b[0m\u001b[0mchromedriver\u001b[0m\u001b[0;34m)\u001b[0m\u001b[0;34m\u001b[0m\u001b[0;34m\u001b[0m\u001b[0m\n\u001b[0;32m----> 2\u001b[0;31m \u001b[0mdriver\u001b[0m\u001b[0;34m.\u001b[0m\u001b[0mget\u001b[0m\u001b[0;34m(\u001b[0m\u001b[0mindeed_query_1\u001b[0m\u001b[0;34m)\u001b[0m\u001b[0;34m\u001b[0m\u001b[0;34m\u001b[0m\u001b[0m\n\u001b[0m\u001b[1;32m      3\u001b[0m \u001b[0mnext_page\u001b[0m\u001b[0;34m=\u001b[0m\u001b[0mdriver\u001b[0m\u001b[0;34m.\u001b[0m\u001b[0mfind_element_by_class_name\u001b[0m\u001b[0;34m(\u001b[0m\u001b[0;34m'pn'\u001b[0m\u001b[0;34m)\u001b[0m\u001b[0;34m\u001b[0m\u001b[0;34m\u001b[0m\u001b[0m\n\u001b[1;32m      4\u001b[0m \u001b[0mnext_page\u001b[0m\u001b[0;34m.\u001b[0m\u001b[0mclick\u001b[0m\u001b[0;34m(\u001b[0m\u001b[0;34m)\u001b[0m\u001b[0;34m\u001b[0m\u001b[0;34m\u001b[0m\u001b[0m\n\u001b[1;32m      5\u001b[0m \u001b[0;31m#next_page=driver.find_element_by_class_name('pn')\u001b[0m\u001b[0;34m\u001b[0m\u001b[0;34m\u001b[0m\u001b[0;34m\u001b[0m\u001b[0m\n",
      "\u001b[0;31mNameError\u001b[0m: name 'indeed_query_1' is not defined"
     ]
    }
   ],
   "source": [
    "driver = webdriver.Chrome(chrome_options=options, executable_path=chromedriver)\n",
    "driver.get(indeed_query_1)\n",
    "next_page=driver.find_element_by_class_name('pn')\n",
    "next_page.click()\n",
    "#next_page=driver.find_element_by_class_name('pn')\n",
    "#next_page.click()\n",
    "\n",
    "next_page=driver.find_elements_by_css_selector('span.np')\n",
    "next_page[1].click()\n",
    "#<path d=\"M10 6L8.59 7.41 13.17 12l-4.58 4.59L10 18l6-6-6-6z\" fill=\"#2D2D2D\"></path>"
   ]
  },
  {
   "cell_type": "code",
   "execution_count": 293,
   "metadata": {},
   "outputs": [
    {
     "name": "stderr",
     "output_type": "stream",
     "text": [
      "<ipython-input-293-123d17b6c614>:9: DeprecationWarning: use options instead of chrome_options\n",
      "  driver = webdriver.Chrome(chrome_options=options, executable_path=chromedriver)\n"
     ]
    },
    {
     "name": "stdout",
     "output_type": "stream",
     "text": [
      "2295\n"
     ]
    }
   ],
   "source": [
    "data_title=[\"data-scientist\",\"data-analyst\",\"Data-Engineers\",\"Data-Architect\",\"Database-Developer\"\n",
    "            ,\"Machine-Learning-Scientist\",\"Machine-Learning-Engineer\"]\n",
    "\n",
    "#Indeed_Company=[]\n",
    "for title in data_title:\n",
    "    query_1 = title\n",
    "    indeed_search = \"https://www.indeed.com/q-\"\n",
    "    indeed_query_1 = indeed_search + query_1 + \"-jobs.html\"\n",
    "    driver = webdriver.Chrome(chrome_options=options, executable_path=chromedriver)\n",
    "    driver.get(indeed_query_1)\n",
    "    \n",
    "    for i in range(35):\n",
    "        soup = BeautifulSoup(driver.page_source, 'html.parser')\n",
    "        comp_name=soup.find_all('a', {\"data-tn-element\":\"companyName\"})\n",
    "\n",
    "        for cmp in comp_name:\n",
    "            Indeed_Company.append(cmp.text.replace(\"\\n\",\"\"))\n",
    "            \n",
    "        time.sleep(2)\n",
    "        \n",
    "        if i==0:\n",
    "            next_page=driver.find_element_by_class_name('np')\n",
    "            next_page.click()\n",
    "        else:\n",
    "            try:\n",
    "                next_page=driver.find_elements_by_css_selector('span.np')\n",
    "                next_page[1].click()\n",
    "            except Exception:\n",
    "                pass\n",
    "    driver.quit()\n",
    "    time.sleep(300)\n",
    "\n",
    "print(len(Indeed_Company))\n"
   ]
  },
  {
   "cell_type": "code",
   "execution_count": 303,
   "metadata": {},
   "outputs": [
    {
     "name": "stdout",
     "output_type": "stream",
     "text": [
      "1251\n"
     ]
    }
   ],
   "source": [
    "#driver.quit()\n",
    "print(len(pd.DataFrame(Indeed_Company)[0].unique()))\n",
    "new_company_list= pd.concat([cmps,pd.DataFrame(Indeed_Company)])\n",
    "new_company_list=pd.DataFrame(new_company_list[0].unique())\n",
    "new_company_list.to_csv('new_company_list.csv', index=False)"
   ]
  },
  {
   "cell_type": "markdown",
   "metadata": {},
   "source": [
    "### 1. Salary page"
   ]
  },
  {
   "cell_type": "code",
   "execution_count": 307,
   "metadata": {},
   "outputs": [
    {
     "data": {
      "text/plain": [
       "'https://www.indeed.com/cmp/Paypal/salaries?job_category=math'"
      ]
     },
     "execution_count": 307,
     "metadata": {},
     "output_type": "execute_result"
    }
   ],
   "source": [
    "query1 = \"Paypal/salaries\"\n",
    "indeed_search = \"https://www.indeed.com/cmp/\"\n",
    "indeed_query1 = indeed_search + query1 +\"?job_category=math\"\n",
    "indeed_query1"
   ]
  },
  {
   "cell_type": "code",
   "execution_count": 308,
   "metadata": {},
   "outputs": [],
   "source": [
    "from fake_useragent import UserAgent\n",
    "from selenium.webdriver.chrome.options import Options\n",
    "options = Options()\n",
    "ua = UserAgent()\n",
    "user_agent = ua.random\n",
    "options.add_argument(f'user-agent={user_agent}')"
   ]
  },
  {
   "cell_type": "markdown",
   "metadata": {},
   "source": [
    "##### First we launch the indeed page through our ChromeDrive. \n",
    "(A new browser should pop up. To continue using Selenium, keep this window open!)"
   ]
  },
  {
   "cell_type": "code",
   "execution_count": 309,
   "metadata": {},
   "outputs": [
    {
     "name": "stderr",
     "output_type": "stream",
     "text": [
      "<ipython-input-309-e7bce6110ab5>:1: DeprecationWarning: use options instead of chrome_options\n",
      "  driver = webdriver.Chrome(chrome_options=options, executable_path=chromedriver)\n"
     ]
    }
   ],
   "source": [
    "driver = webdriver.Chrome(chrome_options=options, executable_path=chromedriver)\n",
    "driver.get(indeed_query1)"
   ]
  },
  {
   "cell_type": "code",
   "execution_count": 310,
   "metadata": {},
   "outputs": [],
   "source": [
    "soup = BeautifulSoup(driver.page_source, 'html.parser')"
   ]
  },
  {
   "cell_type": "markdown",
   "metadata": {},
   "source": [
    "#### Get Title/Salary/hourly or year"
   ]
  },
  {
   "cell_type": "code",
   "execution_count": 311,
   "metadata": {},
   "outputs": [
    {
     "name": "stdout",
     "output_type": "stream",
     "text": [
      "$174,553 per year\n",
      "$201,747 per year\n"
     ]
    }
   ],
   "source": [
    "a=soup.find_all('span')\n",
    "\n",
    "for a1 in a:\n",
    "    try:\n",
    "        a2=a1.text.split(\" \")\n",
    "        if a2[1]=='per':\n",
    "            print(a2[0], a2[1]+\" \"+a2[2])\n",
    "    except Exception:\n",
    "        pass\n"
   ]
  },
  {
   "cell_type": "code",
   "execution_count": 312,
   "metadata": {},
   "outputs": [
    {
     "data": {
      "text/plain": [
       "'Data Scientist'"
      ]
     },
     "execution_count": 312,
     "metadata": {},
     "output_type": "execute_result"
    }
   ],
   "source": [
    "soup.find_all('div', class_=\"cmp-SalarySummaryTitle\")[0].find('a').text\n"
   ]
  },
  {
   "cell_type": "code",
   "execution_count": 199,
   "metadata": {},
   "outputs": [
    {
     "name": "stdout",
     "output_type": "stream",
     "text": [
      "$174,553 per year\n",
      "Data Scientist\n",
      "$201,747 per year\n",
      "Lead Data Scientist\n",
      "2\n"
     ]
    }
   ],
   "source": [
    "salary=soup.find_all('span')\n",
    "title=soup.find_all('div', class_=\"cmp-SalarySummaryTitle\")\n",
    "\n",
    "i=0\n",
    "for salary1 in salary:\n",
    "    try:\n",
    "        salary2=salary1.text.split(\" \")\n",
    "        if salary2[1]=='per':\n",
    "            print(salary2[0], salary2[1]+\" \"+salary2[2])\n",
    "            print(title[i].find('a').text)\n",
    "            i+=1\n",
    "    except Exception:\n",
    "        pass\n",
    "\n",
    "print(i)\n"
   ]
  },
  {
   "cell_type": "markdown",
   "metadata": {},
   "source": [
    "#### Salary Satisfication rate %"
   ]
  },
  {
   "cell_type": "code",
   "execution_count": 313,
   "metadata": {},
   "outputs": [
    {
     "data": {
      "text/plain": [
       "67"
      ]
     },
     "execution_count": 313,
     "metadata": {},
     "output_type": "execute_result"
    }
   ],
   "source": [
    "#salary_sat=soup.find('div',class_=\"cmp-SalarySatisfactionSidebarWidgetPieChart-inside\").text\n",
    "salary_sat=soup.find('div',class_=\"cmp-SalarySatisfactionSidebarWidgetPieChart-inside\").text\n",
    "salary_sat=int(salary_sat.replace(\"%\",\"\"))\n",
    "salary_sat"
   ]
  },
  {
   "cell_type": "code",
   "execution_count": 314,
   "metadata": {},
   "outputs": [],
   "source": [
    "#### Company Rating value & benefit rate"
   ]
  },
  {
   "cell_type": "code",
   "execution_count": 318,
   "metadata": {},
   "outputs": [
    {
     "data": {
      "text/plain": [
       "3.9"
      ]
     },
     "execution_count": 318,
     "metadata": {},
     "output_type": "execute_result"
    }
   ],
   "source": [
    "cmp_rating=float(soup.find('span', {\"aria-hidden\":\"true\", \"class\":\"cmp-CompactHeaderCompanyRatings-value\"}).text)\n",
    "cmp_rating                 "
   ]
  },
  {
   "cell_type": "code",
   "execution_count": 325,
   "metadata": {},
   "outputs": [
    {
     "name": "stdout",
     "output_type": "stream",
     "text": [
      "4.0\n"
     ]
    }
   ],
   "source": [
    "query1 = \"Paypal\"\n",
    "indeed_search = \"https://www.indeed.com/cmp/\"\n",
    "indeed_query1 = indeed_search + query1\n",
    "\n",
    "#driver = webdriver.Chrome(chrome_options=options, executable_path=chromedriver)\n",
    "#driver.get(indeed_query1)\n",
    "#soup = BeautifulSoup(driver.page_source, 'html.parser')\n",
    "\n",
    "benefit_rating=float(soup.find_all('span', {\"aria-hidden\":\"true\",\"class\":\"css-3xwreb e1wnkr790\"})[1].text)\n",
    "print(benefit_rating)\n",
    "\n"
   ]
  },
  {
   "cell_type": "markdown",
   "metadata": {},
   "source": [
    "#### 2. Company home page"
   ]
  },
  {
   "cell_type": "code",
   "execution_count": 161,
   "metadata": {},
   "outputs": [
    {
     "name": "stdout",
     "output_type": "stream",
     "text": [
      "https://www.indeed.com/cmp/Paypal/about?from=acme-wonder\n"
     ]
    }
   ],
   "source": [
    "query_2 = \"Paypal\"\n",
    "indeed_search_2 = \"https://www.indeed.com/cmp/\"\n",
    "indeed_query_2 = indeed_search_2 + query_2 + \"/about?from=acme-wonder\"\n",
    "print(indeed_query_2)\n",
    "driver.get(indeed_query_2)"
   ]
  },
  {
   "cell_type": "code",
   "execution_count": 162,
   "metadata": {},
   "outputs": [],
   "source": [
    "soup_2 = BeautifulSoup(driver.page_source, 'html.parser')\n"
   ]
  },
  {
   "cell_type": "markdown",
   "metadata": {},
   "source": [
    "#### Get Headquarters/Revenue/company size/ Industry"
   ]
  },
  {
   "cell_type": "code",
   "execution_count": 164,
   "metadata": {},
   "outputs": [
    {
     "name": "stdout",
     "output_type": "stream",
     "text": [
      " California. San Jose 10,000+ more than $10B (USD) more than $10B (USD)\n"
     ]
    }
   ],
   "source": [
    "Headquarters_State=soup_2.find(\"div\",{\"class\":\"cmp-AboutBasicCompanyDetailsWidget-content\",\n",
    "                   \"data-testid\":\"headquarters\"}).text.split(',')[1]\n",
    "\n",
    "Headquarters_City=soup_2.find(\"div\",{\"class\":\"cmp-AboutBasicCompanyDetailsWidget-content\",\n",
    "                   \"data-testid\":\"headquarters\"}).text.split(',')[0]\n",
    "\n",
    "#Headquarters_Country=soup_2.find(\"div\",{\"class\":\"cmp-AboutBasicCompanyDetailsWidget-content\",\n",
    "#                   \"data-testid\":\"headquarters\"}).text.split(',')[2]\n",
    "\n",
    "Revenue= soup_2.find(\"div\",{\"class\":\"cmp-AboutBasicCompanyDetailsWidget-content\", \"data-testid\":\"revenue\"}).text\n",
    "\n",
    "\n",
    "Cmp_size=soup_2.find(\"div\",{\"class\":\"cmp-AboutBasicCompanyDetailsWidget-content\",\"data-testid\":\"employees\"}).text\n",
    "\n",
    "Industry= soup_2.find(\"div\",{\"class\":\"cmp-AboutBasicCompanyDetailsWidget-content\",\"data-testid\":\"revenue\"}).text\n",
    "\n",
    "print(Headquarters_State,Headquarters_City, Cmp_size,Revenue,Industry)"
   ]
  },
  {
   "cell_type": "markdown",
   "metadata": {},
   "source": [
    "### 3. Company Interview"
   ]
  },
  {
   "cell_type": "code",
   "execution_count": 105,
   "metadata": {},
   "outputs": [
    {
     "name": "stdout",
     "output_type": "stream",
     "text": [
      "https://www.indeed.com/cmp/Paypal/interviews\n"
     ]
    }
   ],
   "source": [
    "query_3 = \"Paypal/interviews\"\n",
    "indeed_search_3 = \"https://www.indeed.com/cmp/\"\n",
    "indeed_query_3 = indeed_search_3 + query_3\n",
    "print(indeed_query_3)\n",
    "driver.get(indeed_query_3)"
   ]
  },
  {
   "cell_type": "code",
   "execution_count": 106,
   "metadata": {},
   "outputs": [],
   "source": [
    "soup_3 = BeautifulSoup(driver.page_source, 'html.parser')"
   ]
  },
  {
   "cell_type": "markdown",
   "metadata": {},
   "source": [
    "##### Get Interview difficulty & length"
   ]
  },
  {
   "cell_type": "code",
   "execution_count": 107,
   "metadata": {},
   "outputs": [
    {
     "name": "stdout",
     "output_type": "stream",
     "text": [
      "Medium\n"
     ]
    }
   ],
   "source": [
    "inter_diff=soup_3.find('div',{\"class\":\"cmp-DifficultyCard-result\",\n",
    "                       \"data-testid\":\"cmp-InterviewSummaryCard-result\"}).text\n",
    "print(inter_diff)"
   ]
  },
  {
   "cell_type": "code",
   "execution_count": 21,
   "metadata": {},
   "outputs": [
    {
     "name": "stdout",
     "output_type": "stream",
     "text": [
      "About a day or two\n"
     ]
    }
   ],
   "source": [
    "inter_len=soup_3.find('div',{\"class\":\"cmp-DurationCard-text\",\n",
    "                       \"data-testid\":\"cmp-InterviewSummaryCard-result\"}).text\n",
    "print(inter_len)\n"
   ]
  },
  {
   "cell_type": "markdown",
   "metadata": {},
   "source": [
    "# Create Function to web scrapping"
   ]
  },
  {
   "cell_type": "code",
   "execution_count": 326,
   "metadata": {},
   "outputs": [],
   "source": [
    "def web_scrapping(cmp):\n",
    "    \n",
    "    headers = ['company','Headquarters_State', 'Headquarters_City', 'revenue', \n",
    "               'cmp_size', 'industry','salary_sat', 'inter_diff','inter_len','title', 'salary', 'salary_unit',\n",
    "              \"cmp_rating\",\"benefit_rating\"]\n",
    "    \n",
    "    cmp1=cmp.replace(\" \", \"-\")\n",
    "    \n",
    "    try:\n",
    "        query1 = cmp1+\"/salaries\"\n",
    "        indeed_search = \"https://www.indeed.com/cmp/\"\n",
    "        indeed_query1 = indeed_search + query1 +\"?job_category=math\"\n",
    "        driver.get(indeed_query1)\n",
    "        soup = BeautifulSoup(driver.page_source, 'html.parser')\n",
    "        \n",
    "        ###Get Title/Salary/hourly or year\n",
    "        salary_span=soup.find_all('span')\n",
    "        title1=soup.find_all('div', class_=\"cmp-SalarySummaryTitle\")\n",
    "        \n",
    "        salary=[]\n",
    "        salary_unit=[]\n",
    "        title=[]\n",
    "        \n",
    "        i=0\n",
    "        for salary1 in salary_span:\n",
    "            try:\n",
    "                salary2=salary1.text.split(\" \")\n",
    "                if salary2[1]=='per':\n",
    "                    salary.append(salary2[0])\n",
    "                    salary_unit.append(salary2[1]+\" \"+salary2[2])\n",
    "                    title.append(title1[i].find('a').text)\n",
    "                    i+=1\n",
    "            except Exception:\n",
    "                pass\n",
    "        ###Get Salary Satisfication rate %\n",
    "        salary_sat=soup.find('div',class_=\"cmp-SalarySatisfactionSidebarWidgetPieChart-inside\").text\n",
    "        salary_sat_div=int(salary_sat.replace(\"%\",\"\"))\n",
    "        salary_sat=[salary_sat_div]*len(salary)\n",
    "        cmp_rating=[float(soup.find('span', {\"aria-hidden\":\"true\", \n",
    "                                             \"class\":\"cmp-CompactHeaderCompanyRatings-value\"}).text)]*len(salary)\n",
    "        \n",
    "        \n",
    "        query1 = cmp1\n",
    "        indeed_search = \"https://www.indeed.com/cmp/\"\n",
    "        indeed_query1 = indeed_search + query1\n",
    "        driver.get(indeed_query1)\n",
    "        soup = BeautifulSoup(driver.page_source, 'html.parser')\n",
    "\n",
    "        benefit_rating=[float(soup.find_all('span', {\"aria-hidden\":\"true\",\"class\":\"css-3xwreb e1wnkr790\"})[1].text)]*len(salary)\n",
    "\n",
    "        ###Get Headquarters/Revenue/company size/ Industry\n",
    "        query_2 = cmp1\n",
    "        indeed_search_2 = \"https://www.indeed.com/cmp/\"\n",
    "        indeed_query_2 = indeed_search_2 + query_2 + \"/about?from=acme-wonder\"\n",
    "        driver.get(indeed_query_2)\n",
    "        soup_2 = BeautifulSoup(driver.page_source, 'html.parser')\n",
    "        \n",
    " \n",
    "        try:     \n",
    "            Headquarters_State=[soup_2.find(\"div\",{\"class\":\"cmp-AboutBasicCompanyDetailsWidget-content\",\n",
    "                                                  \"data-testid\":\"headquarters\"}).text.split(',')[1]]*len(salary)\n",
    "        except Exception:\n",
    "            Headquarters_State=np.nan*len(salary)\n",
    "\n",
    "        try:\n",
    "            Headquarters_City=[soup_2.find(\"div\",{\"class\":\"cmp-AboutBasicCompanyDetailsWidget-content\",\n",
    "                                                 \"data-testid\":\"headquarters\"}).text.split(',')[0]]*len(salary)\n",
    "        except Exception:\n",
    "            Headquarters_City=np.nan*len(salary)\n",
    "            \n",
    "        try:    \n",
    "            revenue= [soup_2.find(\"div\",{\"class\":\"cmp-AboutBasicCompanyDetailsWidget-content\", \n",
    "                                        \"data-testid\":\"revenue\"}).text]*len(salary)\n",
    "        except Exception:\n",
    "            revenue=np.nan*len(salary) \n",
    "            \n",
    "        try:\n",
    "            cmp_size=[soup_2.find(\"div\",{\"class\":\"cmp-AboutBasicCompanyDetailsWidget-content\",\n",
    "                                         \"data-testid\":\"employees\"}).text]*len(salary)\n",
    "        except Exception:\n",
    "            cmp_size=np.nan*len(salary) \n",
    "            \n",
    "        try:\n",
    "            industry= [soup_2.find(\"div\",{\"class\":\"cmp-AboutBasicCompanyDetailsWidget-content\",\n",
    "                                          \"data-testid\":\"revenue\"}).text]*len(salary)\n",
    "        except Exception:\n",
    "            industry=np.nan*len(salary) \n",
    "    \n",
    "        ###Get Interview difficulty & length\n",
    "        query_3 = cmp1 + \"/interviews\"\n",
    "        indeed_search_3 = \"https://www.indeed.com/cmp/\"\n",
    "        indeed_query_3 = indeed_search_3 + query_3\n",
    "        driver.get(indeed_query_3)\n",
    "        soup_3 = BeautifulSoup(driver.page_source, 'html.parser')\n",
    "        try:\n",
    "            inter_diff=[soup_3.find('div',{\"class\":\"cmp-DifficultyCard-result\",\n",
    "                           \"data-testid\":\"cmp-InterviewSummaryCard-result\"}).text]*len(salary)\n",
    "        except Exception:\n",
    "            inter_diff=\"none\"*len(salary)\n",
    "            \n",
    "        try:\n",
    "            inter_len=[soup_3.find('div',{\"class\":\"cmp-DurationCard-text\",\n",
    "                           \"data-testid\":\"cmp-InterviewSummaryCard-result\"}).text]*len(salary)\n",
    "        except Exception:\n",
    "            inter_len=\"none\"*len(salary)\n",
    "        \n",
    "        \n",
    "        company=[cmp]*len(salary)\n",
    "        return dict(zip(headers, [company,Headquarters_State, Headquarters_City, revenue, \n",
    "               cmp_size, industry,salary_sat, inter_diff,inter_len,title, salary, salary_unit,cmp_rating,benefit_rating]))\n",
    "\n",
    "\n",
    "    except Exception:\n",
    "        return dict(zip(headers, [cmp, 0, 0, 0, 0, 0, 0, 0, 0, 0, 0, 0,0,0]))"
   ]
  },
  {
   "cell_type": "markdown",
   "metadata": {},
   "source": [
    "### For loop-web_scrapping function"
   ]
  },
  {
   "cell_type": "code",
   "execution_count": 330,
   "metadata": {
    "scrolled": true
   },
   "outputs": [
    {
     "name": "stderr",
     "output_type": "stream",
     "text": [
      "<ipython-input-330-6ad492444d4d>:12: DeprecationWarning: use options instead of chrome_options\n",
      "  driver = webdriver.Chrome(chrome_options=options, executable_path=chromedriver)\n",
      "<ipython-input-330-6ad492444d4d>:20: DeprecationWarning: use options instead of chrome_options\n",
      "  driver = webdriver.Chrome(chrome_options=options, executable_path=chromedriver)\n"
     ]
    }
   ],
   "source": [
    "#indeed_data = []\n",
    "change_user=0\n",
    "sleep_time=0\n",
    "\n",
    "for link in new_company_list[0][3:]:\n",
    "\n",
    "    if change_user==0:\n",
    "        options = Options()\n",
    "        ua = UserAgent()\n",
    "        user_agent = ua.random\n",
    "        options.add_argument(f'user-agent={user_agent}')\n",
    "        driver = webdriver.Chrome(chrome_options=options, executable_path=chromedriver)\n",
    "\n",
    "    else:\n",
    "        driver.quit()\n",
    "        options = Options()\n",
    "        ua = UserAgent()\n",
    "        user_agent = ua.random\n",
    "        options.add_argument(f'user-agent={user_agent}')\n",
    "        driver = webdriver.Chrome(chrome_options=options, executable_path=chromedriver)\n",
    "\n",
    "    change_user+=1\n",
    "    sleep_time+=1\n",
    " \n",
    "    indeed_data.append(web_scrapping(link))\n",
    "    if sleep_time % 10==0:\n",
    "        time.sleep(30+5*random.random())\n",
    "        \n",
    "    if sleep_time % 100==0:\n",
    "        time.sleep(300)\n",
    "driver.quit()\n"
   ]
  },
  {
   "cell_type": "code",
   "execution_count": 404,
   "metadata": {},
   "outputs": [
    {
     "name": "stderr",
     "output_type": "stream",
     "text": [
      "<ipython-input-404-1f273e61bc3d>:20: DeprecationWarning: use options instead of chrome_options\n",
      "  driver = webdriver.Chrome(chrome_options=options, executable_path=chromedriver)\n"
     ]
    }
   ],
   "source": [
    "#indeed_data_1=[]\n",
    "change_user=1\n",
    "sleep_time=1\n",
    "\n",
    "for link in issue_cmp[3:]:\n",
    "\n",
    "    if change_user==0:\n",
    "        options = Options()\n",
    "        ua = UserAgent()\n",
    "        user_agent = ua.random\n",
    "        options.add_argument(f'user-agent={user_agent}')\n",
    "        driver = webdriver.Chrome(chrome_options=options, executable_path=chromedriver)\n",
    "\n",
    "    else:\n",
    "        driver.quit()\n",
    "        options = Options()\n",
    "        ua = UserAgent()\n",
    "        user_agent = ua.random\n",
    "        options.add_argument(f'user-agent={user_agent}')\n",
    "        driver = webdriver.Chrome(chrome_options=options, executable_path=chromedriver)\n",
    "\n",
    "    change_user+=1\n",
    "    sleep_time+=1\n",
    " \n",
    "    indeed_data_1.append(web_scrapping1(link))\n",
    "    if sleep_time % 50==0:\n",
    "        time.sleep(30+5*random.random())\n",
    "        \n",
    "    if sleep_time % 200==0:\n",
    "        time.sleep(300)\n",
    "driver.quit()"
   ]
  },
  {
   "cell_type": "code",
   "execution_count": 407,
   "metadata": {},
   "outputs": [],
   "source": [
    "len(indeed_data_1)\n",
    "c=pd.DataFrame(indeed_data_1[0])\n",
    "for i in range(1,len(indeed_data_1)):\n",
    "    try:\n",
    "        Indeed_Company_Salary_1=pd.concat([Indeed_Company_Salary_1,pd.DataFrame(indeed_data_1[i])])\n",
    "    except Exception:\n",
    "        pass"
   ]
  },
  {
   "cell_type": "code",
   "execution_count": 360,
   "metadata": {},
   "outputs": [],
   "source": [
    "#company_list.remove_all(None)\n",
    "#print(company_list)\n",
    "\n",
    "Indeed_Company_Salary=pd.DataFrame(indeed_data[0])\n",
    "for i in range(1,len(indeed_data)):\n",
    "    try:\n",
    "        Indeed_Company_Salary=pd.concat([Indeed_Company_Salary,pd.DataFrame(indeed_data[i])])\n",
    "    except Exception:\n",
    "        pass"
   ]
  },
  {
   "cell_type": "code",
   "execution_count": 361,
   "metadata": {},
   "outputs": [
    {
     "name": "stdout",
     "output_type": "stream",
     "text": [
      "(733, 14)\n"
     ]
    },
    {
     "data": {
      "text/html": [
       "<div>\n",
       "<style scoped>\n",
       "    .dataframe tbody tr th:only-of-type {\n",
       "        vertical-align: middle;\n",
       "    }\n",
       "\n",
       "    .dataframe tbody tr th {\n",
       "        vertical-align: top;\n",
       "    }\n",
       "\n",
       "    .dataframe thead th {\n",
       "        text-align: right;\n",
       "    }\n",
       "</style>\n",
       "<table border=\"1\" class=\"dataframe\">\n",
       "  <thead>\n",
       "    <tr style=\"text-align: right;\">\n",
       "      <th></th>\n",
       "      <th>company</th>\n",
       "      <th>Headquarters_State</th>\n",
       "      <th>Headquarters_City</th>\n",
       "      <th>revenue</th>\n",
       "      <th>cmp_size</th>\n",
       "      <th>industry</th>\n",
       "      <th>salary_sat</th>\n",
       "      <th>inter_diff</th>\n",
       "      <th>inter_len</th>\n",
       "      <th>title</th>\n",
       "      <th>salary</th>\n",
       "      <th>salary_unit</th>\n",
       "      <th>cmp_rating</th>\n",
       "      <th>benefit_rating</th>\n",
       "    </tr>\n",
       "  </thead>\n",
       "  <tbody>\n",
       "    <tr>\n",
       "      <th>0</th>\n",
       "      <td>Deloitte</td>\n",
       "      <td>EC4A 3HQ\\r\\nUnited Kingdom</td>\n",
       "      <td>1 New Street Square\\r\\nLondon</td>\n",
       "      <td>$1B to $5B (USD)</td>\n",
       "      <td>10,000+</td>\n",
       "      <td>$1B to $5B (USD)</td>\n",
       "      <td>65.0</td>\n",
       "      <td>Difficult</td>\n",
       "      <td>About a month</td>\n",
       "      <td>Analyst</td>\n",
       "      <td>$56,670</td>\n",
       "      <td>per year</td>\n",
       "      <td>4.0</td>\n",
       "      <td>3.7</td>\n",
       "    </tr>\n",
       "    <tr>\n",
       "      <th>0</th>\n",
       "      <td>UnitedHealth Group</td>\n",
       "      <td>NaN</td>\n",
       "      <td>NaN</td>\n",
       "      <td>NaN</td>\n",
       "      <td>NaN</td>\n",
       "      <td>NaN</td>\n",
       "      <td>60.0</td>\n",
       "      <td>Medium</td>\n",
       "      <td>About two weeks</td>\n",
       "      <td>Analyst</td>\n",
       "      <td>$39,345</td>\n",
       "      <td>per year</td>\n",
       "      <td>3.7</td>\n",
       "      <td>3.6</td>\n",
       "    </tr>\n",
       "    <tr>\n",
       "      <th>1</th>\n",
       "      <td>UnitedHealth Group</td>\n",
       "      <td>NaN</td>\n",
       "      <td>NaN</td>\n",
       "      <td>NaN</td>\n",
       "      <td>NaN</td>\n",
       "      <td>NaN</td>\n",
       "      <td>60.0</td>\n",
       "      <td>Medium</td>\n",
       "      <td>About two weeks</td>\n",
       "      <td>Data Scientist</td>\n",
       "      <td>$107,613</td>\n",
       "      <td>per year</td>\n",
       "      <td>3.7</td>\n",
       "      <td>3.6</td>\n",
       "    </tr>\n",
       "    <tr>\n",
       "      <th>2</th>\n",
       "      <td>UnitedHealth Group</td>\n",
       "      <td>NaN</td>\n",
       "      <td>NaN</td>\n",
       "      <td>NaN</td>\n",
       "      <td>NaN</td>\n",
       "      <td>NaN</td>\n",
       "      <td>60.0</td>\n",
       "      <td>Medium</td>\n",
       "      <td>About two weeks</td>\n",
       "      <td>Senior Analyst</td>\n",
       "      <td>$47,204</td>\n",
       "      <td>per year</td>\n",
       "      <td>3.7</td>\n",
       "      <td>3.6</td>\n",
       "    </tr>\n",
       "    <tr>\n",
       "      <th>3</th>\n",
       "      <td>UnitedHealth Group</td>\n",
       "      <td>NaN</td>\n",
       "      <td>NaN</td>\n",
       "      <td>NaN</td>\n",
       "      <td>NaN</td>\n",
       "      <td>NaN</td>\n",
       "      <td>60.0</td>\n",
       "      <td>Medium</td>\n",
       "      <td>About two weeks</td>\n",
       "      <td>Senior Data Scientist</td>\n",
       "      <td>$127,991</td>\n",
       "      <td>per year</td>\n",
       "      <td>3.7</td>\n",
       "      <td>3.6</td>\n",
       "    </tr>\n",
       "    <tr>\n",
       "      <th>0</th>\n",
       "      <td>PayPal</td>\n",
       "      <td>California.</td>\n",
       "      <td>San Jose</td>\n",
       "      <td>more than $10B (USD)</td>\n",
       "      <td>10,000+</td>\n",
       "      <td>more than $10B (USD)</td>\n",
       "      <td>67.0</td>\n",
       "      <td>Medium</td>\n",
       "      <td>About a week</td>\n",
       "      <td>Data Scientist</td>\n",
       "      <td>$174,553</td>\n",
       "      <td>per year</td>\n",
       "      <td>3.9</td>\n",
       "      <td>4.0</td>\n",
       "    </tr>\n",
       "    <tr>\n",
       "      <th>1</th>\n",
       "      <td>PayPal</td>\n",
       "      <td>California.</td>\n",
       "      <td>San Jose</td>\n",
       "      <td>more than $10B (USD)</td>\n",
       "      <td>10,000+</td>\n",
       "      <td>more than $10B (USD)</td>\n",
       "      <td>67.0</td>\n",
       "      <td>Medium</td>\n",
       "      <td>About a week</td>\n",
       "      <td>Lead Data Scientist</td>\n",
       "      <td>$201,747</td>\n",
       "      <td>per year</td>\n",
       "      <td>3.9</td>\n",
       "      <td>4.0</td>\n",
       "    </tr>\n",
       "    <tr>\n",
       "      <th>0</th>\n",
       "      <td>General Dynamics Information Technology</td>\n",
       "      <td>Virginia</td>\n",
       "      <td>Fairfax</td>\n",
       "      <td>more than $10B (USD)</td>\n",
       "      <td>10,000+</td>\n",
       "      <td>more than $10B (USD)</td>\n",
       "      <td>64.0</td>\n",
       "      <td>Medium</td>\n",
       "      <td>About a day or two</td>\n",
       "      <td>Analyst</td>\n",
       "      <td>$94,354</td>\n",
       "      <td>per year</td>\n",
       "      <td>3.8</td>\n",
       "      <td>3.8</td>\n",
       "    </tr>\n",
       "    <tr>\n",
       "      <th>1</th>\n",
       "      <td>General Dynamics Information Technology</td>\n",
       "      <td>Virginia</td>\n",
       "      <td>Fairfax</td>\n",
       "      <td>more than $10B (USD)</td>\n",
       "      <td>10,000+</td>\n",
       "      <td>more than $10B (USD)</td>\n",
       "      <td>64.0</td>\n",
       "      <td>Medium</td>\n",
       "      <td>About a day or two</td>\n",
       "      <td>Biostatistician</td>\n",
       "      <td>$115,690</td>\n",
       "      <td>per year</td>\n",
       "      <td>3.8</td>\n",
       "      <td>3.8</td>\n",
       "    </tr>\n",
       "    <tr>\n",
       "      <th>2</th>\n",
       "      <td>General Dynamics Information Technology</td>\n",
       "      <td>Virginia</td>\n",
       "      <td>Fairfax</td>\n",
       "      <td>more than $10B (USD)</td>\n",
       "      <td>10,000+</td>\n",
       "      <td>more than $10B (USD)</td>\n",
       "      <td>64.0</td>\n",
       "      <td>Medium</td>\n",
       "      <td>About a day or two</td>\n",
       "      <td>Data Scientist</td>\n",
       "      <td>$105,189</td>\n",
       "      <td>per year</td>\n",
       "      <td>3.8</td>\n",
       "      <td>3.8</td>\n",
       "    </tr>\n",
       "  </tbody>\n",
       "</table>\n",
       "</div>"
      ],
      "text/plain": [
       "                                   company           Headquarters_State  \\\n",
       "0                                 Deloitte   EC4A 3HQ\\r\\nUnited Kingdom   \n",
       "0                       UnitedHealth Group                          NaN   \n",
       "1                       UnitedHealth Group                          NaN   \n",
       "2                       UnitedHealth Group                          NaN   \n",
       "3                       UnitedHealth Group                          NaN   \n",
       "0                                   PayPal                  California.   \n",
       "1                                   PayPal                  California.   \n",
       "0  General Dynamics Information Technology                     Virginia   \n",
       "1  General Dynamics Information Technology                     Virginia   \n",
       "2  General Dynamics Information Technology                     Virginia   \n",
       "\n",
       "               Headquarters_City               revenue cmp_size  \\\n",
       "0  1 New Street Square\\r\\nLondon      $1B to $5B (USD)  10,000+   \n",
       "0                            NaN                   NaN      NaN   \n",
       "1                            NaN                   NaN      NaN   \n",
       "2                            NaN                   NaN      NaN   \n",
       "3                            NaN                   NaN      NaN   \n",
       "0                       San Jose  more than $10B (USD)  10,000+   \n",
       "1                       San Jose  more than $10B (USD)  10,000+   \n",
       "0                        Fairfax  more than $10B (USD)  10,000+   \n",
       "1                        Fairfax  more than $10B (USD)  10,000+   \n",
       "2                        Fairfax  more than $10B (USD)  10,000+   \n",
       "\n",
       "               industry  salary_sat inter_diff           inter_len  \\\n",
       "0      $1B to $5B (USD)        65.0  Difficult       About a month   \n",
       "0                   NaN        60.0     Medium     About two weeks   \n",
       "1                   NaN        60.0     Medium     About two weeks   \n",
       "2                   NaN        60.0     Medium     About two weeks   \n",
       "3                   NaN        60.0     Medium     About two weeks   \n",
       "0  more than $10B (USD)        67.0     Medium        About a week   \n",
       "1  more than $10B (USD)        67.0     Medium        About a week   \n",
       "0  more than $10B (USD)        64.0     Medium  About a day or two   \n",
       "1  more than $10B (USD)        64.0     Medium  About a day or two   \n",
       "2  more than $10B (USD)        64.0     Medium  About a day or two   \n",
       "\n",
       "                   title    salary salary_unit  cmp_rating  benefit_rating  \n",
       "0                Analyst   $56,670    per year         4.0             3.7  \n",
       "0                Analyst   $39,345    per year         3.7             3.6  \n",
       "1         Data Scientist  $107,613    per year         3.7             3.6  \n",
       "2         Senior Analyst   $47,204    per year         3.7             3.6  \n",
       "3  Senior Data Scientist  $127,991    per year         3.7             3.6  \n",
       "0         Data Scientist  $174,553    per year         3.9             4.0  \n",
       "1    Lead Data Scientist  $201,747    per year         3.9             4.0  \n",
       "0                Analyst   $94,354    per year         3.8             3.8  \n",
       "1        Biostatistician  $115,690    per year         3.8             3.8  \n",
       "2         Data Scientist  $105,189    per year         3.8             3.8  "
      ]
     },
     "execution_count": 361,
     "metadata": {},
     "output_type": "execute_result"
    }
   ],
   "source": [
    "print(Indeed_Company_Salary.shape)\n",
    "\n",
    "Indeed_Company_Salary.head(10)"
   ]
  },
  {
   "cell_type": "code",
   "execution_count": 368,
   "metadata": {},
   "outputs": [],
   "source": [
    "Indeed_Company_Salary.to_csv('Indeed_Company_Salary.csv', index=False)"
   ]
  },
  {
   "cell_type": "code",
   "execution_count": 15,
   "metadata": {},
   "outputs": [],
   "source": [
    "driver.quit()"
   ]
  },
  {
   "cell_type": "code",
   "execution_count": 415,
   "metadata": {},
   "outputs": [],
   "source": [
    "#Indeed_Company_Salary=pd.read_csv(\"Indeed_Company_Salary_revised.csv\")\n",
    "\n",
    "#Indeed_Company_Salary=pd.concat([Indeed_Company_Salary,Indeed_Company_Salary_1])\n",
    "\n",
    "#Indeed_Company_Salary.to_csv('Indeed_Company_Salary.csv', index=False)"
   ]
  },
  {
   "cell_type": "markdown",
   "metadata": {},
   "source": [
    "### Check the company without data, and rerun webscrapping"
   ]
  },
  {
   "cell_type": "code",
   "execution_count": 401,
   "metadata": {},
   "outputs": [
    {
     "name": "stdout",
     "output_type": "stream",
     "text": [
      "1636\n",
      "13                        Premier Research\n",
      "20          Logistics Management Institute\n",
      "24                                  Google\n",
      "25                       Johnson & Johnson\n",
      "33                               Capgemini\n",
      "                       ...                \n",
      "1612                               Sephora\n",
      "1613    Institutional Shareholder Services\n",
      "1614                                  EXOS\n",
      "1615              Granite Construction Inc\n",
      "1624                      Raven Industries\n",
      "Name: 0, Length: 421, dtype: object\n"
     ]
    }
   ],
   "source": [
    "print(len(indeed_data))\n",
    "empty=[]\n",
    "for i,a in enumerate(indeed_data):\n",
    "    if a==({'company': [],'Headquarters_State': [],\n",
    "                   'Headquarters_City': [],'revenue': [],'cmp_size': [],'industry': [],\n",
    "                   'salary_sat': [],'inter_diff': [],'inter_len': [],'title': [],'salary': [],\n",
    "                   'salary_unit': [],'cmp_rating': [],'benefit_rating': []}):\n",
    "        empty.append(i)\n",
    "\n",
    "empty=np.array(empty)+1    \n",
    "empty\n",
    "\n",
    "issue_cmp=new_company_list[0][empty]\n",
    "len(issue_cmp)\n",
    "print(issue_cmp)\n",
    "\n",
    "\n",
    "#indeed_data.index({'company': [],'Headquarters_State': [],\n",
    "#                   'Headquarters_City': [],'revenue': [],'cmp_size': [],'industry': [],\n",
    "#                   'salary_sat': [],'inter_diff': [],'inter_len': [],'title': [],'salary': [],\n",
    "#                   'salary_unit': [],'cmp_rating': [],'benefit_rating': []})\n",
    "#for i in range(13):\n",
    "#    print(indeed_data[i]['company'])\n",
    "#new_company_list[0][13]\n",
    "#indeed_data[3]"
   ]
  },
  {
   "cell_type": "markdown",
   "metadata": {},
   "source": [
    "### Founded year & industry"
   ]
  },
  {
   "cell_type": "code",
   "execution_count": 419,
   "metadata": {},
   "outputs": [],
   "source": [
    "company=Indeed_Company_Salary['company'].unique()"
   ]
  },
  {
   "cell_type": "code",
   "execution_count": 423,
   "metadata": {},
   "outputs": [
    {
     "name": "stderr",
     "output_type": "stream",
     "text": [
      "<ipython-input-423-07bba145c6fc>:1: DeprecationWarning: use options instead of chrome_options\n",
      "  driver = webdriver.Chrome(chrome_options=options, executable_path=chromedriver)\n"
     ]
    }
   ],
   "source": [
    "driver = webdriver.Chrome(chrome_options=options, executable_path=chromedriver)\n",
    "query=company[1].replace(\" \",\"-\")\n",
    "indeed_search = \"https://www.indeed.com/cmp/\"\n",
    "indeed_query = indeed_search + query\n",
    "driver.get(indeed_query)\n",
    "soup = BeautifulSoup(driver.page_source, 'html.parser')\n"
   ]
  },
  {
   "cell_type": "code",
   "execution_count": 435,
   "metadata": {},
   "outputs": [],
   "source": [
    "def found_industry(cmp):\n",
    "    try:\n",
    "        header=[\"company\",\"founded\",\"industry\"]\n",
    "        company=cmp\n",
    "\n",
    "        query=cmp.replace(\" \",\"-\")\n",
    "        indeed_search = \"https://www.indeed.com/cmp/\"\n",
    "        indeed_query = indeed_search + query\n",
    "        driver.get(indeed_query)\n",
    "        soup = BeautifulSoup(driver.page_source, 'html.parser')\n",
    "\n",
    "        founded=soup.find('li', {\"data-testid\":\"companyInfo-founded\", \"class\":\"css-v4e08k eu4oa1w0\"}).text\n",
    "        founded=int(founded.replace(\"Founded\",\"\"))\n",
    "\n",
    "        industry=soup.find('li', {\"data-testid\":\"companyInfo-industry\", \"class\":\"css-v4e08k eu4oa1w0\"}).text\n",
    "        industry=industry.replace(\"Industry\",\"\")\n",
    "\n",
    "\n",
    "        return dict(zip(header, [company,founded, industry]))\n",
    "\n",
    "\n",
    "    except Exception:\n",
    "        return dict(zip(headers, [cmp, 0, 0]))"
   ]
  },
  {
   "cell_type": "code",
   "execution_count": 448,
   "metadata": {},
   "outputs": [
    {
     "name": "stderr",
     "output_type": "stream",
     "text": [
      "<ipython-input-448-dc803e5a3e25>:12: DeprecationWarning: use options instead of chrome_options\n",
      "  driver = webdriver.Chrome(chrome_options=options, executable_path=chromedriver)\n",
      "<ipython-input-448-dc803e5a3e25>:20: DeprecationWarning: use options instead of chrome_options\n",
      "  driver = webdriver.Chrome(chrome_options=options, executable_path=chromedriver)\n"
     ]
    }
   ],
   "source": [
    "change_user=0\n",
    "sleep_time=0\n",
    "indeed_data_2=[]\n",
    "\n",
    "for link in company[0:]:\n",
    "\n",
    "    if change_user==0:\n",
    "        options = Options()\n",
    "        ua = UserAgent()\n",
    "        user_agent = ua.random\n",
    "        options.add_argument(f'user-agent={user_agent}')\n",
    "        driver = webdriver.Chrome(chrome_options=options, executable_path=chromedriver)\n",
    "\n",
    "    else:\n",
    "        driver.quit()\n",
    "        options = Options()\n",
    "        ua = UserAgent()\n",
    "        user_agent = ua.random\n",
    "        options.add_argument(f'user-agent={user_agent}')\n",
    "        driver = webdriver.Chrome(chrome_options=options, executable_path=chromedriver)\n",
    "\n",
    "    change_user+=1\n",
    "    sleep_time+=1\n",
    " \n",
    "    indeed_data_2.append(found_industry(link))\n",
    "    if sleep_time % 50==0:\n",
    "        time.sleep(20+5*random.random())\n",
    "        \n",
    "    if sleep_time % 200==0:\n",
    "        time.sleep(300)\n",
    "driver.quit()\n",
    "\n"
   ]
  },
  {
   "cell_type": "code",
   "execution_count": 452,
   "metadata": {},
   "outputs": [
    {
     "data": {
      "text/plain": [
       "{'company': 'Deloitte', 'founded': 1850, 'industry': 'Information Technology'}"
      ]
     },
     "execution_count": 452,
     "metadata": {},
     "output_type": "execute_result"
    }
   ],
   "source": [
    "indeed_data_2[0]"
   ]
  },
  {
   "cell_type": "code",
   "execution_count": 466,
   "metadata": {},
   "outputs": [],
   "source": [
    "\n",
    "\n",
    "\n",
    "industry_found=pd.DataFrame(indeed_data_2[0],index=[0])\n",
    "\n",
    "for i in range(1,len(indeed_data_2)):\n",
    "    try:\n",
    "        industry_found=pd.concat([industry_found,pd.DataFrame(indeed_data_2[i],index=[i])])\n",
    "    except Exception:\n",
    "        pass\n",
    "\n",
    "industry_found.to_csv('industry_found.csv', index=False)"
   ]
  },
  {
   "cell_type": "code",
   "execution_count": 467,
   "metadata": {},
   "outputs": [
    {
     "data": {
      "text/html": [
       "<div>\n",
       "<style scoped>\n",
       "    .dataframe tbody tr th:only-of-type {\n",
       "        vertical-align: middle;\n",
       "    }\n",
       "\n",
       "    .dataframe tbody tr th {\n",
       "        vertical-align: top;\n",
       "    }\n",
       "\n",
       "    .dataframe thead th {\n",
       "        text-align: right;\n",
       "    }\n",
       "</style>\n",
       "<table border=\"1\" class=\"dataframe\">\n",
       "  <thead>\n",
       "    <tr style=\"text-align: right;\">\n",
       "      <th></th>\n",
       "      <th>company</th>\n",
       "      <th>founded</th>\n",
       "      <th>industry</th>\n",
       "      <th>Headquarters_State</th>\n",
       "      <th>Headquarters_City</th>\n",
       "    </tr>\n",
       "  </thead>\n",
       "  <tbody>\n",
       "    <tr>\n",
       "      <th>0</th>\n",
       "      <td>Deloitte</td>\n",
       "      <td>1850.0</td>\n",
       "      <td>Information Technology</td>\n",
       "      <td>NaN</td>\n",
       "      <td>NaN</td>\n",
       "    </tr>\n",
       "    <tr>\n",
       "      <th>1</th>\n",
       "      <td>UnitedHealth Group</td>\n",
       "      <td>1977.0</td>\n",
       "      <td>Healthcare</td>\n",
       "      <td>NaN</td>\n",
       "      <td>NaN</td>\n",
       "    </tr>\n",
       "    <tr>\n",
       "      <th>2</th>\n",
       "      <td>PayPal</td>\n",
       "      <td>1998.0</td>\n",
       "      <td>Financial Services</td>\n",
       "      <td>NaN</td>\n",
       "      <td>NaN</td>\n",
       "    </tr>\n",
       "    <tr>\n",
       "      <th>3</th>\n",
       "      <td>General Dynamics Information Technology</td>\n",
       "      <td>1952.0</td>\n",
       "      <td>Aerospace &amp; Defense</td>\n",
       "      <td>NaN</td>\n",
       "      <td>NaN</td>\n",
       "    </tr>\n",
       "    <tr>\n",
       "      <th>4</th>\n",
       "      <td>Centene</td>\n",
       "      <td>1984.0</td>\n",
       "      <td>Healthcare and insurance</td>\n",
       "      <td>NaN</td>\n",
       "      <td>NaN</td>\n",
       "    </tr>\n",
       "    <tr>\n",
       "      <th>...</th>\n",
       "      <td>...</td>\n",
       "      <td>...</td>\n",
       "      <td>...</td>\n",
       "      <td>...</td>\n",
       "      <td>...</td>\n",
       "    </tr>\n",
       "    <tr>\n",
       "      <th>437</th>\n",
       "      <td>The Aerospace Corporation</td>\n",
       "      <td>1960.0</td>\n",
       "      <td>Aerospace &amp; Defense</td>\n",
       "      <td>NaN</td>\n",
       "      <td>NaN</td>\n",
       "    </tr>\n",
       "    <tr>\n",
       "      <th>438</th>\n",
       "      <td>Qualcomm Technologies, Inc.</td>\n",
       "      <td>1985.0</td>\n",
       "      <td>Information Technology</td>\n",
       "      <td>NaN</td>\n",
       "      <td>NaN</td>\n",
       "    </tr>\n",
       "    <tr>\n",
       "      <th>439</th>\n",
       "      <td>Qualcomm Canada ULC</td>\n",
       "      <td>1985.0</td>\n",
       "      <td>Information Technology</td>\n",
       "      <td>NaN</td>\n",
       "      <td>NaN</td>\n",
       "    </tr>\n",
       "    <tr>\n",
       "      <th>440</th>\n",
       "      <td>Guidewire Software, Inc.</td>\n",
       "      <td>2001.0</td>\n",
       "      <td>Insurance</td>\n",
       "      <td>NaN</td>\n",
       "      <td>NaN</td>\n",
       "    </tr>\n",
       "    <tr>\n",
       "      <th>441</th>\n",
       "      <td>Institutional Shareholder Services</td>\n",
       "      <td>NaN</td>\n",
       "      <td>NaN</td>\n",
       "      <td>0.0</td>\n",
       "      <td>0.0</td>\n",
       "    </tr>\n",
       "  </tbody>\n",
       "</table>\n",
       "<p>442 rows × 5 columns</p>\n",
       "</div>"
      ],
      "text/plain": [
       "                                     company  founded  \\\n",
       "0                                   Deloitte   1850.0   \n",
       "1                         UnitedHealth Group   1977.0   \n",
       "2                                     PayPal   1998.0   \n",
       "3    General Dynamics Information Technology   1952.0   \n",
       "4                                    Centene   1984.0   \n",
       "..                                       ...      ...   \n",
       "437                The Aerospace Corporation   1960.0   \n",
       "438              Qualcomm Technologies, Inc.   1985.0   \n",
       "439                      Qualcomm Canada ULC   1985.0   \n",
       "440                 Guidewire Software, Inc.   2001.0   \n",
       "441       Institutional Shareholder Services      NaN   \n",
       "\n",
       "                     industry  Headquarters_State  Headquarters_City  \n",
       "0      Information Technology                 NaN                NaN  \n",
       "1                  Healthcare                 NaN                NaN  \n",
       "2          Financial Services                 NaN                NaN  \n",
       "3         Aerospace & Defense                 NaN                NaN  \n",
       "4    Healthcare and insurance                 NaN                NaN  \n",
       "..                        ...                 ...                ...  \n",
       "437       Aerospace & Defense                 NaN                NaN  \n",
       "438    Information Technology                 NaN                NaN  \n",
       "439    Information Technology                 NaN                NaN  \n",
       "440                 Insurance                 NaN                NaN  \n",
       "441                       NaN                 0.0                0.0  \n",
       "\n",
       "[442 rows x 5 columns]"
      ]
     },
     "execution_count": 467,
     "metadata": {},
     "output_type": "execute_result"
    }
   ],
   "source": [
    "industry_found"
   ]
  },
  {
   "cell_type": "code",
   "execution_count": 465,
   "metadata": {},
   "outputs": [
    {
     "data": {
      "text/html": [
       "<div>\n",
       "<style scoped>\n",
       "    .dataframe tbody tr th:only-of-type {\n",
       "        vertical-align: middle;\n",
       "    }\n",
       "\n",
       "    .dataframe tbody tr th {\n",
       "        vertical-align: top;\n",
       "    }\n",
       "\n",
       "    .dataframe thead th {\n",
       "        text-align: right;\n",
       "    }\n",
       "</style>\n",
       "<table border=\"1\" class=\"dataframe\">\n",
       "  <thead>\n",
       "    <tr style=\"text-align: right;\">\n",
       "      <th></th>\n",
       "      <th>company</th>\n",
       "      <th>founded</th>\n",
       "      <th>industry</th>\n",
       "    </tr>\n",
       "  </thead>\n",
       "  <tbody>\n",
       "    <tr>\n",
       "      <th>0</th>\n",
       "      <td>Deloitte</td>\n",
       "      <td>1850</td>\n",
       "      <td>Information Technology</td>\n",
       "    </tr>\n",
       "    <tr>\n",
       "      <th>1</th>\n",
       "      <td>UnitedHealth Group</td>\n",
       "      <td>1977</td>\n",
       "      <td>Healthcare</td>\n",
       "    </tr>\n",
       "  </tbody>\n",
       "</table>\n",
       "</div>"
      ],
      "text/plain": [
       "              company  founded                industry\n",
       "0            Deloitte     1850  Information Technology\n",
       "1  UnitedHealth Group     1977              Healthcare"
      ]
     },
     "execution_count": 465,
     "metadata": {},
     "output_type": "execute_result"
    }
   ],
   "source": [
    "pd.concat([industry_found,pd.DataFrame(indeed_data_2[1],index=[1])])"
   ]
  },
  {
   "cell_type": "code",
   "execution_count": null,
   "metadata": {},
   "outputs": [],
   "source": []
  }
 ],
 "metadata": {
  "kernelspec": {
   "display_name": "Python 3",
   "language": "python",
   "name": "python3"
  },
  "language_info": {
   "codemirror_mode": {
    "name": "ipython",
    "version": 3
   },
   "file_extension": ".py",
   "mimetype": "text/x-python",
   "name": "python",
   "nbconvert_exporter": "python",
   "pygments_lexer": "ipython3",
   "version": "3.8.5"
  }
 },
 "nbformat": 4,
 "nbformat_minor": 4
}
